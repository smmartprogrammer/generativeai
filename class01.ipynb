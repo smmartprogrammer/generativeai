{
 "cells": [
  {
   "cell_type": "code",
   "execution_count": null,
   "metadata": {},
   "outputs": [],
   "source": []
  },
  {
   "cell_type": "markdown",
   "metadata": {},
   "source": [
    "#raghunathji"
   ]
  },
  {
   "cell_type": "code",
   "execution_count": 1,
   "metadata": {},
   "outputs": [
    {
     "name": "stdout",
     "output_type": "stream",
     "text": [
      "raghunathji\n",
      "raghunathji\n",
      "raghunathji\n",
      "raghunathji\n",
      "raghunathji\n",
      "raghunathji\n",
      "raghunathji\n",
      "raghunathji\n",
      "raghunathji\n",
      "raghunathji\n"
     ]
    }
   ],
   "source": [
    "print(\"raghunathji\")\n",
    "print(\"raghunathji\")\n",
    "print(\"raghunathji\")\n",
    "print(\"raghunathji\")\n",
    "print(\"raghunathji\")\n",
    "print(\"raghunathji\")\n",
    "print(\"raghunathji\")\n",
    "print(\"raghunathji\")\n",
    "print(\"raghunathji\")\n",
    "print(\"raghunathji\")"
   ]
  }
 ],
 "metadata": {
  "kernelspec": {
   "display_name": "python12",
   "language": "python",
   "name": "python3"
  },
  "language_info": {
   "codemirror_mode": {
    "name": "ipython",
    "version": 3
   },
   "file_extension": ".py",
   "mimetype": "text/x-python",
   "name": "python",
   "nbconvert_exporter": "python",
   "pygments_lexer": "ipython3",
   "version": "3.12.0"
  }
 },
 "nbformat": 4,
 "nbformat_minor": 2
}
