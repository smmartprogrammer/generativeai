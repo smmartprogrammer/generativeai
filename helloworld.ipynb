{
 "cells": [
  {
   "cell_type": "code",
   "execution_count": 1,
   "metadata": {},
   "outputs": [
    {
     "name": "stdout",
     "output_type": "stream",
     "text": [
      "Collecting openai\n",
      "  Obtaining dependency information for openai from https://files.pythonhosted.org/packages/63/07/80d808af2fb0ccc27c7ff849ccb677588dcd71cc75e05c14420629910bfb/openai-1.7.1-py3-none-any.whl.metadata\n",
      "  Downloading openai-1.7.1-py3-none-any.whl.metadata (17 kB)\n",
      "Collecting anyio<5,>=3.5.0 (from openai)\n",
      "  Obtaining dependency information for anyio<5,>=3.5.0 from https://files.pythonhosted.org/packages/bf/cd/d6d9bb1dadf73e7af02d18225cbd2c93f8552e13130484f1c8dcfece292b/anyio-4.2.0-py3-none-any.whl.metadata\n",
      "  Downloading anyio-4.2.0-py3-none-any.whl.metadata (4.6 kB)\n",
      "Collecting distro<2,>=1.7.0 (from openai)\n",
      "  Obtaining dependency information for distro<2,>=1.7.0 from https://files.pythonhosted.org/packages/12/b3/231ffd4ab1fc9d679809f356cebee130ac7daa00d6d6f3206dd4fd137e9e/distro-1.9.0-py3-none-any.whl.metadata\n",
      "  Downloading distro-1.9.0-py3-none-any.whl.metadata (6.8 kB)\n",
      "Collecting httpx<1,>=0.23.0 (from openai)\n",
      "  Obtaining dependency information for httpx<1,>=0.23.0 from https://files.pythonhosted.org/packages/39/9b/4937d841aee9c2c8102d9a4eeb800c7dad25386caabb4a1bf5010df81a57/httpx-0.26.0-py3-none-any.whl.metadata\n",
      "  Downloading httpx-0.26.0-py3-none-any.whl.metadata (7.6 kB)\n",
      "Collecting pydantic<3,>=1.9.0 (from openai)\n",
      "  Obtaining dependency information for pydantic<3,>=1.9.0 from https://files.pythonhosted.org/packages/dd/b7/9aea7ee6c01fe3f3c03b8ca3c7797c866df5fecece9d6cb27caa138db2e2/pydantic-2.5.3-py3-none-any.whl.metadata\n",
      "  Downloading pydantic-2.5.3-py3-none-any.whl.metadata (65 kB)\n",
      "     ---------------------------------------- 0.0/65.6 kB ? eta -:--:--\n",
      "     ---------------------------------------- 0.0/65.6 kB ? eta -:--:--\n",
      "     ------ --------------------------------- 10.2/65.6 kB ? eta -:--:--\n",
      "     ----------------- -------------------- 30.7/65.6 kB 330.3 kB/s eta 0:00:01\n",
      "     ----------------------- -------------- 41.0/65.6 kB 281.8 kB/s eta 0:00:01\n",
      "     -------------------------------------- 65.6/65.6 kB 323.7 kB/s eta 0:00:00\n",
      "Collecting sniffio (from openai)\n",
      "  Using cached sniffio-1.3.0-py3-none-any.whl (10 kB)\n",
      "Collecting tqdm>4 (from openai)\n",
      "  Obtaining dependency information for tqdm>4 from https://files.pythonhosted.org/packages/00/e5/f12a80907d0884e6dff9c16d0c0114d81b8cd07dc3ae54c5e962cc83037e/tqdm-4.66.1-py3-none-any.whl.metadata\n",
      "  Downloading tqdm-4.66.1-py3-none-any.whl.metadata (57 kB)\n",
      "     ---------------------------------------- 0.0/57.6 kB ? eta -:--:--\n",
      "     ------- -------------------------------- 10.2/57.6 kB ? eta -:--:--\n",
      "     --------------------- ------------------ 30.7/57.6 kB 1.3 MB/s eta 0:00:01\n",
      "     --------------------- ------------------ 30.7/57.6 kB 1.3 MB/s eta 0:00:01\n",
      "     -------------------------------------- 57.6/57.6 kB 430.6 kB/s eta 0:00:00\n",
      "Collecting typing-extensions<5,>=4.7 (from openai)\n",
      "  Obtaining dependency information for typing-extensions<5,>=4.7 from https://files.pythonhosted.org/packages/b7/f4/6a90020cd2d93349b442bfcb657d0dc91eee65491600b2cb1d388bc98e6b/typing_extensions-4.9.0-py3-none-any.whl.metadata\n",
      "  Downloading typing_extensions-4.9.0-py3-none-any.whl.metadata (3.0 kB)\n",
      "Collecting idna>=2.8 (from anyio<5,>=3.5.0->openai)\n",
      "  Obtaining dependency information for idna>=2.8 from https://files.pythonhosted.org/packages/c2/e7/a82b05cf63a603df6e68d59ae6a68bf5064484a0718ea5033660af4b54a9/idna-3.6-py3-none-any.whl.metadata\n",
      "  Downloading idna-3.6-py3-none-any.whl.metadata (9.9 kB)\n",
      "Collecting certifi (from httpx<1,>=0.23.0->openai)\n",
      "  Obtaining dependency information for certifi from https://files.pythonhosted.org/packages/64/62/428ef076be88fa93716b576e4a01f919d25968913e817077a386fcbe4f42/certifi-2023.11.17-py3-none-any.whl.metadata\n",
      "  Downloading certifi-2023.11.17-py3-none-any.whl.metadata (2.2 kB)\n",
      "Collecting httpcore==1.* (from httpx<1,>=0.23.0->openai)\n",
      "  Obtaining dependency information for httpcore==1.* from https://files.pythonhosted.org/packages/56/ba/78b0a99c4da0ff8b0f59defa2f13ca4668189b134bd9840b6202a93d9a0f/httpcore-1.0.2-py3-none-any.whl.metadata\n",
      "  Using cached httpcore-1.0.2-py3-none-any.whl.metadata (20 kB)\n",
      "Collecting h11<0.15,>=0.13 (from httpcore==1.*->httpx<1,>=0.23.0->openai)\n",
      "  Using cached h11-0.14.0-py3-none-any.whl (58 kB)\n",
      "Collecting annotated-types>=0.4.0 (from pydantic<3,>=1.9.0->openai)\n",
      "  Obtaining dependency information for annotated-types>=0.4.0 from https://files.pythonhosted.org/packages/28/78/d31230046e58c207284c6b2c4e8d96e6d3cb4e52354721b944d3e1ee4aa5/annotated_types-0.6.0-py3-none-any.whl.metadata\n",
      "  Downloading annotated_types-0.6.0-py3-none-any.whl.metadata (12 kB)\n",
      "Collecting pydantic-core==2.14.6 (from pydantic<3,>=1.9.0->openai)\n",
      "  Obtaining dependency information for pydantic-core==2.14.6 from https://files.pythonhosted.org/packages/84/13/afa2b5c336d30a43592f9bc8d5769ccd15b32b4ef243bd792496fe336925/pydantic_core-2.14.6-cp312-none-win_amd64.whl.metadata\n",
      "  Downloading pydantic_core-2.14.6-cp312-none-win_amd64.whl.metadata (6.6 kB)\n",
      "Requirement already satisfied: colorama in c:\\users\\parta\\appdata\\roaming\\python\\python312\\site-packages (from tqdm>4->openai) (0.4.6)\n",
      "Downloading openai-1.7.1-py3-none-any.whl (224 kB)\n",
      "   ---------------------------------------- 0.0/224.9 kB ? eta -:--:--\n",
      "   ---------------------------------------- 0.0/224.9 kB ? eta -:--:--\n",
      "   ---------------------------------------- 0.0/224.9 kB ? eta -:--:--\n",
      "   - -------------------------------------- 10.2/224.9 kB ? eta -:--:--\n",
      "   ----- --------------------------------- 30.7/224.9 kB 325.1 kB/s eta 0:00:01\n",
      "   ----- --------------------------------- 30.7/224.9 kB 325.1 kB/s eta 0:00:01\n",
      "   ------- ------------------------------- 41.0/224.9 kB 245.8 kB/s eta 0:00:01\n",
      "   ---------- ---------------------------- 61.4/224.9 kB 297.7 kB/s eta 0:00:01\n",
      "   ------------ -------------------------- 71.7/224.9 kB 280.5 kB/s eta 0:00:01\n",
      "   --------------- ----------------------- 92.2/224.9 kB 275.8 kB/s eta 0:00:01\n",
      "   ------------------- ------------------ 112.6/224.9 kB 297.7 kB/s eta 0:00:01\n",
      "   -------------------- ----------------- 122.9/224.9 kB 276.8 kB/s eta 0:00:01\n",
      "   ------------------------ ------------- 143.4/224.9 kB 266.2 kB/s eta 0:00:01\n",
      "   ------------------------ ------------- 143.4/224.9 kB 266.2 kB/s eta 0:00:01\n",
      "   ------------------------ ------------- 143.4/224.9 kB 266.2 kB/s eta 0:00:01\n",
      "   ------------------------- ------------ 153.6/224.9 kB 229.4 kB/s eta 0:00:01\n",
      "   ------------------------- ------------ 153.6/224.9 kB 229.4 kB/s eta 0:00:01\n",
      "   ------------------------- ------------ 153.6/224.9 kB 229.4 kB/s eta 0:00:01\n",
      "   ------------------------- ------------ 153.6/224.9 kB 229.4 kB/s eta 0:00:01\n",
      "   ------------------------- ------------ 153.6/224.9 kB 229.4 kB/s eta 0:00:01\n",
      "   ------------------------- ------------ 153.6/224.9 kB 229.4 kB/s eta 0:00:01\n",
      "   ------------------------- ------------ 153.6/224.9 kB 229.4 kB/s eta 0:00:01\n",
      "   ------------------------- ------------ 153.6/224.9 kB 229.4 kB/s eta 0:00:01\n",
      "   ------------------------- ------------ 153.6/224.9 kB 229.4 kB/s eta 0:00:01\n",
      "   ------------------------- ------------ 153.6/224.9 kB 229.4 kB/s eta 0:00:01\n",
      "   ------------------------- ------------ 153.6/224.9 kB 229.4 kB/s eta 0:00:01\n",
      "   ------------------------- ------------ 153.6/224.9 kB 229.4 kB/s eta 0:00:01\n",
      "   ------------------------- ------------ 153.6/224.9 kB 229.4 kB/s eta 0:00:01\n",
      "   ------------------------- ------------ 153.6/224.9 kB 229.4 kB/s eta 0:00:01\n",
      "   ------------------------- ------------ 153.6/224.9 kB 229.4 kB/s eta 0:00:01\n",
      "   ------------------------- ------------ 153.6/224.9 kB 229.4 kB/s eta 0:00:01\n",
      "   ------------------------- ------------ 153.6/224.9 kB 229.4 kB/s eta 0:00:01\n",
      "   ------------------------- ------------ 153.6/224.9 kB 229.4 kB/s eta 0:00:01\n",
      "   ------------------------- ------------ 153.6/224.9 kB 229.4 kB/s eta 0:00:01\n",
      "   ------------------------- ------------ 153.6/224.9 kB 229.4 kB/s eta 0:00:01\n",
      "   ------------------------------ -------- 174.1/224.9 kB 99.8 kB/s eta 0:00:01\n",
      "   ------------------------------ -------- 174.1/224.9 kB 99.8 kB/s eta 0:00:01\n",
      "   -------------------------------- ----- 194.6/224.9 kB 107.2 kB/s eta 0:00:01\n",
      "   -------------------------------- ----- 194.6/224.9 kB 107.2 kB/s eta 0:00:01\n",
      "   -------------------------------- ----- 194.6/224.9 kB 107.2 kB/s eta 0:00:01\n",
      "   ---------------------------------- --- 204.8/224.9 kB 105.5 kB/s eta 0:00:01\n",
      "   ---------------------------------- --- 204.8/224.9 kB 105.5 kB/s eta 0:00:01\n",
      "   -------------------------------------- 224.9/224.9 kB 109.9 kB/s eta 0:00:00\n",
      "Downloading anyio-4.2.0-py3-none-any.whl (85 kB)\n",
      "   ---------------------------------------- 0.0/85.5 kB ? eta -:--:--\n",
      "   ---------------------------------------- 0.0/85.5 kB ? eta -:--:--\n",
      "   ---- ----------------------------------- 10.2/85.5 kB ? eta -:--:--\n",
      "   -------------- ------------------------- 30.7/85.5 kB 325.1 kB/s eta 0:00:01\n",
      "   -------------- ------------------------- 30.7/85.5 kB 325.1 kB/s eta 0:00:01\n",
      "   ------------------- -------------------- 41.0/85.5 kB 217.9 kB/s eta 0:00:01\n",
      "   ---------------------------- ----------- 61.4/85.5 kB 272.3 kB/s eta 0:00:01\n",
      "   ---------------------------------------- 85.5/85.5 kB 320.2 kB/s eta 0:00:00\n",
      "Downloading distro-1.9.0-py3-none-any.whl (20 kB)\n",
      "Downloading httpx-0.26.0-py3-none-any.whl (75 kB)\n",
      "   ---------------------------------------- 0.0/75.9 kB ? eta -:--:--\n",
      "   ---------------- ----------------------- 30.7/75.9 kB 1.3 MB/s eta 0:00:01\n",
      "   --------------------- ------------------ 41.0/75.9 kB 653.6 kB/s eta 0:00:01\n",
      "   ---------------------------------------- 75.9/75.9 kB 698.1 kB/s eta 0:00:00\n",
      "Using cached httpcore-1.0.2-py3-none-any.whl (76 kB)\n",
      "Downloading pydantic-2.5.3-py3-none-any.whl (381 kB)\n",
      "   ---------------------------------------- 0.0/381.9 kB ? eta -:--:--\n",
      "   --- ------------------------------------ 30.7/381.9 kB 1.3 MB/s eta 0:00:01\n",
      "   ---- ---------------------------------- 41.0/381.9 kB 653.6 kB/s eta 0:00:01\n",
      "   --------- ----------------------------- 92.2/381.9 kB 744.7 kB/s eta 0:00:01\n",
      "   ------------ ------------------------- 122.9/381.9 kB 717.5 kB/s eta 0:00:01\n",
      "   --------------- ---------------------- 153.6/381.9 kB 702.7 kB/s eta 0:00:01\n",
      "   -------------------- ----------------- 204.8/381.9 kB 778.2 kB/s eta 0:00:01\n",
      "   ------------------------- ------------ 256.0/381.9 kB 827.5 kB/s eta 0:00:01\n",
      "   ------------------------------ ------- 307.2/381.9 kB 824.9 kB/s eta 0:00:01\n",
      "   --------------------------------- ---- 337.9/381.9 kB 838.1 kB/s eta 0:00:01\n",
      "   -------------------------------------- 381.9/381.9 kB 848.6 kB/s eta 0:00:00\n",
      "Downloading pydantic_core-2.14.6-cp312-none-win_amd64.whl (1.9 MB)\n",
      "   ---------------------------------------- 0.0/1.9 MB ? eta -:--:--\n",
      "   - -------------------------------------- 0.1/1.9 MB 1.6 MB/s eta 0:00:02\n",
      "   -- ------------------------------------- 0.1/1.9 MB 1.3 MB/s eta 0:00:02\n",
      "   --- ------------------------------------ 0.2/1.9 MB 1.3 MB/s eta 0:00:02\n",
      "   ----- ---------------------------------- 0.2/1.9 MB 1.2 MB/s eta 0:00:02\n",
      "   ------ --------------------------------- 0.3/1.9 MB 1.3 MB/s eta 0:00:02\n",
      "   ------- -------------------------------- 0.4/1.9 MB 1.3 MB/s eta 0:00:02\n",
      "   -------- ------------------------------- 0.4/1.9 MB 1.3 MB/s eta 0:00:02\n",
      "   ---------- ----------------------------- 0.5/1.9 MB 1.3 MB/s eta 0:00:02\n",
      "   ----------- ---------------------------- 0.6/1.9 MB 1.3 MB/s eta 0:00:01\n",
      "   ------------- -------------------------- 0.6/1.9 MB 1.3 MB/s eta 0:00:01\n",
      "   -------------- ------------------------- 0.7/1.9 MB 1.4 MB/s eta 0:00:01\n",
      "   ---------------- ----------------------- 0.8/1.9 MB 1.4 MB/s eta 0:00:01\n",
      "   ------------------ --------------------- 0.8/1.9 MB 1.4 MB/s eta 0:00:01\n",
      "   ------------------- -------------------- 0.9/1.9 MB 1.4 MB/s eta 0:00:01\n",
      "   --------------------- ------------------ 1.0/1.9 MB 1.4 MB/s eta 0:00:01\n",
      "   ---------------------- ----------------- 1.0/1.9 MB 1.4 MB/s eta 0:00:01\n",
      "   ----------------------- ---------------- 1.1/1.9 MB 1.4 MB/s eta 0:00:01\n",
      "   ------------------------ --------------- 1.1/1.9 MB 1.3 MB/s eta 0:00:01\n",
      "   ------------------------- -------------- 1.2/1.9 MB 1.3 MB/s eta 0:00:01\n",
      "   -------------------------- ------------- 1.2/1.9 MB 1.3 MB/s eta 0:00:01\n",
      "   -------------------------- ------------- 1.2/1.9 MB 1.3 MB/s eta 0:00:01\n",
      "   --------------------------- ------------ 1.3/1.9 MB 1.2 MB/s eta 0:00:01\n",
      "   ---------------------------- ----------- 1.3/1.9 MB 1.2 MB/s eta 0:00:01\n",
      "   ----------------------------- ---------- 1.4/1.9 MB 1.2 MB/s eta 0:00:01\n",
      "   ------------------------------ --------- 1.4/1.9 MB 1.2 MB/s eta 0:00:01\n",
      "   -------------------------------- ------- 1.5/1.9 MB 1.2 MB/s eta 0:00:01\n",
      "   --------------------------------- ------ 1.6/1.9 MB 1.2 MB/s eta 0:00:01\n",
      "   ---------------------------------- ----- 1.6/1.9 MB 1.2 MB/s eta 0:00:01\n",
      "   ----------------------------------- ---- 1.7/1.9 MB 1.2 MB/s eta 0:00:01\n",
      "   ------------------------------------- -- 1.7/1.9 MB 1.2 MB/s eta 0:00:01\n",
      "   -------------------------------------- - 1.8/1.9 MB 1.3 MB/s eta 0:00:01\n",
      "   ---------------------------------------- 1.9/1.9 MB 1.3 MB/s eta 0:00:00\n",
      "Downloading tqdm-4.66.1-py3-none-any.whl (78 kB)\n",
      "   ---------------------------------------- 0.0/78.3 kB ? eta -:--:--\n",
      "   ------------------------------- -------- 61.4/78.3 kB 1.7 MB/s eta 0:00:01\n",
      "   ---------------------------------------- 78.3/78.3 kB 1.4 MB/s eta 0:00:00\n",
      "Downloading typing_extensions-4.9.0-py3-none-any.whl (32 kB)\n",
      "Downloading annotated_types-0.6.0-py3-none-any.whl (12 kB)\n",
      "Downloading idna-3.6-py3-none-any.whl (61 kB)\n",
      "   ---------------------------------------- 0.0/61.6 kB ? eta -:--:--\n",
      "   ---------------------------------------- 61.6/61.6 kB 1.7 MB/s eta 0:00:00\n",
      "Downloading certifi-2023.11.17-py3-none-any.whl (162 kB)\n",
      "   ---------------------------------------- 0.0/162.5 kB ? eta -:--:--\n",
      "   -------------------- ------------------- 81.9/162.5 kB 1.5 MB/s eta 0:00:01\n",
      "   ----------------------------------- ---- 143.4/162.5 kB 1.7 MB/s eta 0:00:01\n",
      "   ---------------------------------------- 162.5/162.5 kB 1.6 MB/s eta 0:00:00\n",
      "Installing collected packages: typing-extensions, tqdm, sniffio, idna, h11, distro, certifi, annotated-types, pydantic-core, httpcore, anyio, pydantic, httpx, openai\n",
      "Successfully installed annotated-types-0.6.0 anyio-4.2.0 certifi-2023.11.17 distro-1.9.0 h11-0.14.0 httpcore-1.0.2 httpx-0.26.0 idna-3.6 openai-1.7.1 pydantic-2.5.3 pydantic-core-2.14.6 sniffio-1.3.0 tqdm-4.66.1 typing-extensions-4.9.0\n"
     ]
    },
    {
     "name": "stderr",
     "output_type": "stream",
     "text": [
      "\n",
      "[notice] A new release of pip is available: 23.2.1 -> 23.3.2\n",
      "[notice] To update, run: python.exe -m pip install --upgrade pip\n"
     ]
    }
   ],
   "source": [
    "!pip install openai"
   ]
  },
  {
   "cell_type": "code",
   "execution_count": 2,
   "metadata": {},
   "outputs": [
    {
     "name": "stdout",
     "output_type": "stream",
     "text": [
      "pakistan\n"
     ]
    }
   ],
   "source": [
    "print(\"pakistan\")"
   ]
  },
  {
   "cell_type": "code",
   "execution_count": 3,
   "metadata": {},
   "outputs": [
    {
     "data": {
      "text/plain": [
       "<function dotenv.main.find_dotenv(filename: str = '.env', raise_error_if_not_found: bool = False, usecwd: bool = False) -> str>"
      ]
     },
     "execution_count": 3,
     "metadata": {},
     "output_type": "execute_result"
    }
   ],
   "source": [
    "from dotenv import load_dotenv, find_dotenv\n",
    "find_dotenv"
   ]
  },
  {
   "cell_type": "code",
   "execution_count": 2,
   "metadata": {},
   "outputs": [
    {
     "name": "stdout",
     "output_type": "stream",
     "text": [
      "Collecting python-dotenv\n",
      "  Downloading python_dotenv-1.0.0-py3-none-any.whl (19 kB)\n",
      "Installing collected packages: python-dotenv\n",
      "Successfully installed python-dotenv-1.0.0\n"
     ]
    },
    {
     "name": "stderr",
     "output_type": "stream",
     "text": [
      "\n",
      "[notice] A new release of pip is available: 23.2.1 -> 23.3.2\n",
      "[notice] To update, run: python.exe -m pip install --upgrade pip\n"
     ]
    }
   ],
   "source": [
    "!pip install python-dotenv"
   ]
  },
  {
   "cell_type": "code",
   "execution_count": 7,
   "metadata": {},
   "outputs": [
    {
     "data": {
      "text/plain": [
       "'d:\\\\PIAIC\\\\Quarter 4\\\\GenAI\\\\.env'"
      ]
     },
     "execution_count": 7,
     "metadata": {},
     "output_type": "execute_result"
    }
   ],
   "source": [
    "from dotenv import load_dotenv, find_dotenv\n",
    "find_dotenv()"
   ]
  },
  {
   "cell_type": "code",
   "execution_count": 8,
   "metadata": {},
   "outputs": [
    {
     "data": {
      "text/plain": [
       "False"
      ]
     },
     "execution_count": 8,
     "metadata": {},
     "output_type": "execute_result"
    }
   ],
   "source": [
    "load_dotenv(find_dotenv())"
   ]
  },
  {
   "cell_type": "code",
   "execution_count": 11,
   "metadata": {},
   "outputs": [
    {
     "ename": "KeyError",
     "evalue": "'MY_NAME'",
     "output_type": "error",
     "traceback": [
      "\u001b[1;31m---------------------------------------------------------------------------\u001b[0m",
      "\u001b[1;31mKeyError\u001b[0m                                  Traceback (most recent call last)",
      "Cell \u001b[1;32mIn[11], line 2\u001b[0m\n\u001b[0;32m      1\u001b[0m \u001b[38;5;28;01mimport\u001b[39;00m \u001b[38;5;21;01mos\u001b[39;00m\n\u001b[1;32m----> 2\u001b[0m \u001b[43mos\u001b[49m\u001b[38;5;241;43m.\u001b[39;49m\u001b[43menviron\u001b[49m\u001b[43m[\u001b[49m\u001b[38;5;124;43m'\u001b[39;49m\u001b[38;5;124;43mMY_NAME\u001b[39;49m\u001b[38;5;124;43m'\u001b[39;49m\u001b[43m]\u001b[49m\n",
      "File \u001b[1;32m<frozen os>:685\u001b[0m, in \u001b[0;36m__getitem__\u001b[1;34m(self, key)\u001b[0m\n",
      "\u001b[1;31mKeyError\u001b[0m: 'MY_NAME'"
     ]
    }
   ],
   "source": [
    "import os\n",
    "os.environ['MY_NAME']"
   ]
  }
 ],
 "metadata": {
  "kernelspec": {
   "display_name": "Python 3",
   "language": "python",
   "name": "python3"
  },
  "language_info": {
   "codemirror_mode": {
    "name": "ipython",
    "version": 3
   },
   "file_extension": ".py",
   "mimetype": "text/x-python",
   "name": "python",
   "nbconvert_exporter": "python",
   "pygments_lexer": "ipython3",
   "version": "3.12.1"
  }
 },
 "nbformat": 4,
 "nbformat_minor": 2
}
