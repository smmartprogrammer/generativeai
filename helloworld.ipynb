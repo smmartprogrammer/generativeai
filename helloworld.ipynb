{
 "cells": [
  {
   "cell_type": "code",
   "execution_count": 1,
   "metadata": {},
   "outputs": [
    {
     "name": "stdout",
     "output_type": "stream",
     "text": [
      "Collecting openai\n",
      "  Downloading openai-1.9.0-py3-none-any.whl.metadata (18 kB)\n",
      "Collecting anyio<5,>=3.5.0 (from openai)\n",
      "  Using cached anyio-4.2.0-py3-none-any.whl.metadata (4.6 kB)\n",
      "Collecting distro<2,>=1.7.0 (from openai)\n",
      "  Downloading distro-1.9.0-py3-none-any.whl.metadata (6.8 kB)\n",
      "Collecting httpx<1,>=0.23.0 (from openai)\n",
      "  Downloading httpx-0.26.0-py3-none-any.whl.metadata (7.6 kB)\n",
      "Collecting pydantic<3,>=1.9.0 (from openai)\n",
      "  Downloading pydantic-2.5.3-py3-none-any.whl.metadata (65 kB)\n",
      "     ---------------------------------------- 0.0/65.6 kB ? eta -:--:--\n",
      "     ------ --------------------------------- 10.2/65.6 kB ? eta -:--:--\n",
      "     -------------------------------------- 65.6/65.6 kB 878.7 kB/s eta 0:00:00\n",
      "Collecting sniffio (from openai)\n",
      "  Using cached sniffio-1.3.0-py3-none-any.whl (10 kB)\n",
      "Collecting tqdm>4 (from openai)\n",
      "  Using cached tqdm-4.66.1-py3-none-any.whl.metadata (57 kB)\n",
      "Requirement already satisfied: typing-extensions<5,>=4.7 in d:\\anaconda\\envs\\python12\\lib\\site-packages (from openai) (4.9.0)\n",
      "Collecting idna>=2.8 (from anyio<5,>=3.5.0->openai)\n",
      "  Using cached idna-3.6-py3-none-any.whl.metadata (9.9 kB)\n",
      "Collecting certifi (from httpx<1,>=0.23.0->openai)\n",
      "  Using cached certifi-2023.11.17-py3-none-any.whl.metadata (2.2 kB)\n",
      "Collecting httpcore==1.* (from httpx<1,>=0.23.0->openai)\n",
      "  Using cached httpcore-1.0.2-py3-none-any.whl.metadata (20 kB)\n",
      "Collecting h11<0.15,>=0.13 (from httpcore==1.*->httpx<1,>=0.23.0->openai)\n",
      "  Using cached h11-0.14.0-py3-none-any.whl (58 kB)\n",
      "Collecting annotated-types>=0.4.0 (from pydantic<3,>=1.9.0->openai)\n",
      "  Using cached annotated_types-0.6.0-py3-none-any.whl.metadata (12 kB)\n",
      "Collecting pydantic-core==2.14.6 (from pydantic<3,>=1.9.0->openai)\n",
      "  Downloading pydantic_core-2.14.6-cp312-none-win_amd64.whl.metadata (6.6 kB)\n",
      "Requirement already satisfied: colorama in c:\\users\\parta\\appdata\\roaming\\python\\python312\\site-packages (from tqdm>4->openai) (0.4.6)\n",
      "Downloading openai-1.9.0-py3-none-any.whl (223 kB)\n",
      "   ---------------------------------------- 0.0/223.4 kB ? eta -:--:--\n",
      "   ---------------------------------------- 0.0/223.4 kB ? eta -:--:--\n",
      "   ---------------------------------------- 0.0/223.4 kB ? eta -:--:--\n",
      "   ----- ---------------------------------- 30.7/223.4 kB ? eta -:--:--\n",
      "   ------------------------------- -------- 174.1/223.4 kB 2.6 MB/s eta 0:00:01\n",
      "   ---------------------------------------- 223.4/223.4 kB 2.0 MB/s eta 0:00:00\n",
      "Using cached anyio-4.2.0-py3-none-any.whl (85 kB)\n",
      "Downloading distro-1.9.0-py3-none-any.whl (20 kB)\n",
      "Downloading httpx-0.26.0-py3-none-any.whl (75 kB)\n",
      "   ---------------------------------------- 0.0/75.9 kB ? eta -:--:--\n",
      "   -------------------------------- ------- 61.4/75.9 kB 1.7 MB/s eta 0:00:01\n",
      "   ---------------------------------------- 75.9/75.9 kB 1.4 MB/s eta 0:00:00\n",
      "Using cached httpcore-1.0.2-py3-none-any.whl (76 kB)\n",
      "Downloading pydantic-2.5.3-py3-none-any.whl (381 kB)\n",
      "   ---------------------------------------- 0.0/381.9 kB ? eta -:--:--\n",
      "   --- ------------------------------------ 30.7/381.9 kB 1.4 MB/s eta 0:00:01\n",
      "   -------- ------------------------------ 81.9/381.9 kB 919.0 kB/s eta 0:00:01\n",
      "   ----------- -------------------------- 112.6/381.9 kB 819.2 kB/s eta 0:00:01\n",
      "   ------------ ------------------------- 122.9/381.9 kB 804.6 kB/s eta 0:00:01\n",
      "   ---------------- --------------------- 163.8/381.9 kB 821.4 kB/s eta 0:00:01\n",
      "   ---------------------- --------------- 225.3/381.9 kB 811.5 kB/s eta 0:00:01\n",
      "   ------------------------- ------------ 256.0/381.9 kB 827.5 kB/s eta 0:00:01\n",
      "   ------------------------------ ------- 307.2/381.9 kB 827.2 kB/s eta 0:00:01\n",
      "   --------------------------------- ---- 337.9/381.9 kB 807.1 kB/s eta 0:00:01\n",
      "   -------------------------------------- 381.9/381.9 kB 820.5 kB/s eta 0:00:00\n",
      "Downloading pydantic_core-2.14.6-cp312-none-win_amd64.whl (1.9 MB)\n",
      "   ---------------------------------------- 0.0/1.9 MB ? eta -:--:--\n",
      "   - -------------------------------------- 0.1/1.9 MB 2.0 MB/s eta 0:00:01\n",
      "   --- ------------------------------------ 0.1/1.9 MB 1.7 MB/s eta 0:00:02\n",
      "   --- ------------------------------------ 0.1/1.9 MB 1.7 MB/s eta 0:00:02\n",
      "   --- ------------------------------------ 0.1/1.9 MB 1.7 MB/s eta 0:00:02\n",
      "   ----- ---------------------------------- 0.3/1.9 MB 1.2 MB/s eta 0:00:02\n",
      "   ------ --------------------------------- 0.3/1.9 MB 1.1 MB/s eta 0:00:02\n",
      "   ------ --------------------------------- 0.3/1.9 MB 1.1 MB/s eta 0:00:02\n",
      "   ------ --------------------------------- 0.3/1.9 MB 855.7 kB/s eta 0:00:02\n",
      "   ------- -------------------------------- 0.4/1.9 MB 857.5 kB/s eta 0:00:02\n",
      "   ------- -------------------------------- 0.4/1.9 MB 849.3 kB/s eta 0:00:02\n",
      "   --------- ------------------------------ 0.4/1.9 MB 839.7 kB/s eta 0:00:02\n",
      "   ---------- ----------------------------- 0.5/1.9 MB 906.4 kB/s eta 0:00:02\n",
      "   ---------- ----------------------------- 0.5/1.9 MB 892.8 kB/s eta 0:00:02\n",
      "   ------------ --------------------------- 0.6/1.9 MB 880.0 kB/s eta 0:00:02\n",
      "   ------------- -------------------------- 0.6/1.9 MB 899.0 kB/s eta 0:00:02\n",
      "   ------------- -------------------------- 0.6/1.9 MB 883.0 kB/s eta 0:00:02\n",
      "   -------------- ------------------------- 0.7/1.9 MB 852.2 kB/s eta 0:00:02\n",
      "   -------------- ------------------------- 0.7/1.9 MB 844.9 kB/s eta 0:00:02\n",
      "   --------------- ------------------------ 0.7/1.9 MB 819.2 kB/s eta 0:00:02\n",
      "   ---------------- ----------------------- 0.8/1.9 MB 810.8 kB/s eta 0:00:02\n",
      "   ---------------- ----------------------- 0.8/1.9 MB 803.1 kB/s eta 0:00:02\n",
      "   ----------------- ---------------------- 0.8/1.9 MB 797.0 kB/s eta 0:00:02\n",
      "   ----------------- ---------------------- 0.8/1.9 MB 781.0 kB/s eta 0:00:02\n",
      "   ------------------ --------------------- 0.9/1.9 MB 775.6 kB/s eta 0:00:02\n",
      "   ------------------ --------------------- 0.9/1.9 MB 775.6 kB/s eta 0:00:02\n",
      "   ------------------ --------------------- 0.9/1.9 MB 775.6 kB/s eta 0:00:02\n",
      "   ------------------ --------------------- 0.9/1.9 MB 775.6 kB/s eta 0:00:02\n",
      "   ------------------ --------------------- 0.9/1.9 MB 775.6 kB/s eta 0:00:02\n",
      "   ------------------- -------------------- 0.9/1.9 MB 671.2 kB/s eta 0:00:02\n",
      "   ------------------- -------------------- 0.9/1.9 MB 671.2 kB/s eta 0:00:02\n",
      "   ------------------- -------------------- 0.9/1.9 MB 626.5 kB/s eta 0:00:02\n",
      "   ------------------- -------------------- 0.9/1.9 MB 614.1 kB/s eta 0:00:02\n",
      "   ------------------- -------------------- 0.9/1.9 MB 614.1 kB/s eta 0:00:02\n",
      "   -------------------- ------------------- 0.9/1.9 MB 602.4 kB/s eta 0:00:02\n",
      "   -------------------- ------------------- 1.0/1.9 MB 591.0 kB/s eta 0:00:02\n",
      "   -------------------- ------------------- 1.0/1.9 MB 575.7 kB/s eta 0:00:02\n",
      "   --------------------- ------------------ 1.0/1.9 MB 571.9 kB/s eta 0:00:02\n",
      "   --------------------- ------------------ 1.0/1.9 MB 571.9 kB/s eta 0:00:02\n",
      "   --------------------- ------------------ 1.0/1.9 MB 568.6 kB/s eta 0:00:02\n",
      "   --------------------- ------------------ 1.0/1.9 MB 568.6 kB/s eta 0:00:02\n",
      "   ---------------------- ----------------- 1.0/1.9 MB 537.2 kB/s eta 0:00:02\n",
      "   ---------------------- ----------------- 1.0/1.9 MB 537.2 kB/s eta 0:00:02\n",
      "   ---------------------- ----------------- 1.0/1.9 MB 537.2 kB/s eta 0:00:02\n",
      "   ---------------------- ----------------- 1.0/1.9 MB 537.2 kB/s eta 0:00:02\n",
      "   ---------------------- ----------------- 1.0/1.9 MB 537.2 kB/s eta 0:00:02\n",
      "   ---------------------- ----------------- 1.0/1.9 MB 537.2 kB/s eta 0:00:02\n",
      "   ---------------------- ----------------- 1.0/1.9 MB 537.2 kB/s eta 0:00:02\n",
      "   ---------------------- ----------------- 1.0/1.9 MB 537.2 kB/s eta 0:00:02\n",
      "   ---------------------- ----------------- 1.0/1.9 MB 537.2 kB/s eta 0:00:02\n",
      "   ---------------------- ----------------- 1.0/1.9 MB 537.2 kB/s eta 0:00:02\n",
      "   ---------------------- ----------------- 1.0/1.9 MB 438.4 kB/s eta 0:00:02\n",
      "   ---------------------- ----------------- 1.0/1.9 MB 438.4 kB/s eta 0:00:02\n",
      "   ---------------------- ----------------- 1.0/1.9 MB 438.4 kB/s eta 0:00:02\n",
      "   ---------------------- ----------------- 1.0/1.9 MB 438.4 kB/s eta 0:00:02\n",
      "   ---------------------- ----------------- 1.0/1.9 MB 438.4 kB/s eta 0:00:02\n",
      "   ---------------------- ----------------- 1.0/1.9 MB 438.4 kB/s eta 0:00:02\n",
      "   ---------------------- ----------------- 1.1/1.9 MB 401.8 kB/s eta 0:00:02\n",
      "   ---------------------- ----------------- 1.1/1.9 MB 401.8 kB/s eta 0:00:02\n",
      "   ---------------------- ----------------- 1.1/1.9 MB 401.8 kB/s eta 0:00:02\n",
      "   ----------------------- ---------------- 1.1/1.9 MB 382.9 kB/s eta 0:00:03\n",
      "   ----------------------- ---------------- 1.1/1.9 MB 382.9 kB/s eta 0:00:03\n",
      "   ----------------------- ---------------- 1.1/1.9 MB 382.9 kB/s eta 0:00:03\n",
      "   ----------------------- ---------------- 1.1/1.9 MB 371.5 kB/s eta 0:00:03\n",
      "   ----------------------- ---------------- 1.1/1.9 MB 371.5 kB/s eta 0:00:03\n",
      "   ----------------------- ---------------- 1.1/1.9 MB 371.5 kB/s eta 0:00:03\n",
      "   ----------------------- ---------------- 1.1/1.9 MB 371.5 kB/s eta 0:00:03\n",
      "   ----------------------- ---------------- 1.1/1.9 MB 371.5 kB/s eta 0:00:03\n",
      "   ------------------------ --------------- 1.1/1.9 MB 353.7 kB/s eta 0:00:03\n",
      "   ------------------------ --------------- 1.1/1.9 MB 353.7 kB/s eta 0:00:03\n",
      "   ------------------------ --------------- 1.1/1.9 MB 349.7 kB/s eta 0:00:03\n",
      "   ------------------------ --------------- 1.1/1.9 MB 349.7 kB/s eta 0:00:03\n",
      "   ------------------------- -------------- 1.2/1.9 MB 347.5 kB/s eta 0:00:02\n",
      "   ------------------------- -------------- 1.2/1.9 MB 347.5 kB/s eta 0:00:02\n",
      "   ------------------------- -------------- 1.2/1.9 MB 345.6 kB/s eta 0:00:02\n",
      "   ------------------------- -------------- 1.2/1.9 MB 343.9 kB/s eta 0:00:02\n",
      "   ------------------------- -------------- 1.2/1.9 MB 343.9 kB/s eta 0:00:02\n",
      "   -------------------------- ------------- 1.2/1.9 MB 340.6 kB/s eta 0:00:02\n",
      "   -------------------------- ------------- 1.2/1.9 MB 339.0 kB/s eta 0:00:02\n",
      "   -------------------------- ------------- 1.2/1.9 MB 339.0 kB/s eta 0:00:02\n",
      "   -------------------------- ------------- 1.2/1.9 MB 339.0 kB/s eta 0:00:02\n",
      "   --------------------------- ------------ 1.3/1.9 MB 337.3 kB/s eta 0:00:02\n",
      "   --------------------------- ------------ 1.3/1.9 MB 337.3 kB/s eta 0:00:02\n",
      "   --------------------------- ------------ 1.3/1.9 MB 337.3 kB/s eta 0:00:02\n",
      "   --------------------------- ------------ 1.3/1.9 MB 330.3 kB/s eta 0:00:02\n",
      "   ---------------------------- ----------- 1.3/1.9 MB 327.7 kB/s eta 0:00:02\n",
      "   ---------------------------- ----------- 1.3/1.9 MB 327.7 kB/s eta 0:00:02\n",
      "   ---------------------------- ----------- 1.3/1.9 MB 327.7 kB/s eta 0:00:02\n",
      "   ---------------------------- ----------- 1.3/1.9 MB 327.7 kB/s eta 0:00:02\n",
      "   ---------------------------- ----------- 1.3/1.9 MB 327.7 kB/s eta 0:00:02\n",
      "   ----------------------------- ---------- 1.4/1.9 MB 325.3 kB/s eta 0:00:02\n",
      "   ----------------------------- ---------- 1.4/1.9 MB 325.3 kB/s eta 0:00:02\n",
      "   ----------------------------- ---------- 1.4/1.9 MB 324.1 kB/s eta 0:00:02\n",
      "   ------------------------------ --------- 1.4/1.9 MB 327.7 kB/s eta 0:00:02\n",
      "   ------------------------------- -------- 1.5/1.9 MB 330.0 kB/s eta 0:00:02\n",
      "   ------------------------------- -------- 1.5/1.9 MB 333.5 kB/s eta 0:00:02\n",
      "   -------------------------------- ------- 1.5/1.9 MB 339.1 kB/s eta 0:00:02\n",
      "   --------------------------------- ------ 1.6/1.9 MB 344.7 kB/s eta 0:00:01\n",
      "   ---------------------------------- ----- 1.6/1.9 MB 350.2 kB/s eta 0:00:01\n",
      "   ----------------------------------- ---- 1.6/1.9 MB 354.2 kB/s eta 0:00:01\n",
      "   ------------------------------------ --- 1.7/1.9 MB 361.6 kB/s eta 0:00:01\n",
      "   ------------------------------------- -- 1.7/1.9 MB 365.8 kB/s eta 0:00:01\n",
      "   -------------------------------------- - 1.8/1.9 MB 376.1 kB/s eta 0:00:01\n",
      "   -------------------------------------- - 1.8/1.9 MB 376.1 kB/s eta 0:00:01\n",
      "   ---------------------------------------- 1.9/1.9 MB 383.2 kB/s eta 0:00:00\n",
      "Using cached tqdm-4.66.1-py3-none-any.whl (78 kB)\n",
      "Using cached annotated_types-0.6.0-py3-none-any.whl (12 kB)\n",
      "Using cached idna-3.6-py3-none-any.whl (61 kB)\n",
      "Using cached certifi-2023.11.17-py3-none-any.whl (162 kB)\n",
      "Installing collected packages: tqdm, sniffio, pydantic-core, idna, h11, distro, certifi, annotated-types, pydantic, httpcore, anyio, httpx, openai\n",
      "Successfully installed annotated-types-0.6.0 anyio-4.2.0 certifi-2023.11.17 distro-1.9.0 h11-0.14.0 httpcore-1.0.2 httpx-0.26.0 idna-3.6 openai-1.9.0 pydantic-2.5.3 pydantic-core-2.14.6 sniffio-1.3.0 tqdm-4.66.1\n"
     ]
    }
   ],
   "source": [
    "!pip install openai"
   ]
  },
  {
   "cell_type": "code",
   "execution_count": 2,
   "metadata": {},
   "outputs": [
    {
     "name": "stdout",
     "output_type": "stream",
     "text": [
      "Pakistan\n"
     ]
    }
   ],
   "source": [
    "print(\"Pakistan\")"
   ]
  },
  {
   "cell_type": "code",
   "execution_count": 5,
   "metadata": {},
   "outputs": [
    {
     "data": {
      "text/plain": [
       "'d:\\\\PIAIC\\\\Quarter 4\\\\GenAI\\\\.env'"
      ]
     },
     "execution_count": 5,
     "metadata": {},
     "output_type": "execute_result"
    }
   ],
   "source": [
    "from dotenv import load_dotenv, find_dotenv\n",
    "find_dotenv()"
   ]
  },
  {
   "cell_type": "code",
   "execution_count": 4,
   "metadata": {},
   "outputs": [
    {
     "name": "stdout",
     "output_type": "stream",
     "text": [
      "Collecting python-dotenv\n",
      "  Downloading python_dotenv-1.0.1-py3-none-any.whl.metadata (23 kB)\n",
      "Downloading python_dotenv-1.0.1-py3-none-any.whl (19 kB)\n",
      "Installing collected packages: python-dotenv\n",
      "Successfully installed python-dotenv-1.0.1\n"
     ]
    }
   ],
   "source": [
    "!pip install python-dotenv"
   ]
  },
  {
   "cell_type": "code",
   "execution_count": 6,
   "metadata": {},
   "outputs": [
    {
     "data": {
      "text/plain": [
       "True"
      ]
     },
     "execution_count": 6,
     "metadata": {},
     "output_type": "execute_result"
    }
   ],
   "source": [
    "load_dotenv(find_dotenv())"
   ]
  },
  {
   "cell_type": "code",
   "execution_count": 7,
   "metadata": {},
   "outputs": [
    {
     "data": {
      "text/plain": [
       "'RAGHUANTHJI'"
      ]
     },
     "execution_count": 7,
     "metadata": {},
     "output_type": "execute_result"
    }
   ],
   "source": [
    "import os \n",
    "os.environ[\"MY_NAME\"] "
   ]
  },
  {
   "cell_type": "code",
   "execution_count": 2,
   "metadata": {},
   "outputs": [],
   "source": [
    "from openai import OpenAI\n",
    "from dotenv import load_dotenv, find_dotenv\n",
    "\n",
    "_ : bool = load_dotenv(find_dotenv())\n",
    "\n",
    "client : OpenAI = OpenAI()"
   ]
  },
  {
   "cell_type": "code",
   "execution_count": 3,
   "metadata": {},
   "outputs": [
    {
     "data": {
      "text/plain": [
       "'1+1 equals 2.'"
      ]
     },
     "execution_count": 3,
     "metadata": {},
     "output_type": "execute_result"
    }
   ],
   "source": [
    "from openai.types.chat.chat_completion import ChatCompletion\n",
    "\n",
    "def chat_completion(prompt : str )-> str:\n",
    " response : ChatCompletion = client.chat.completions.create(\n",
    "        messages=[\n",
    "            {\n",
    "                \"role\": \"user\",\n",
    "                \"content\": prompt,\n",
    "            }\n",
    "        ],\n",
    "        model=\"gpt-3.5-turbo-1106\",\n",
    "    )\n",
    "# print(response)\n",
    "#  print(response.choices[0].message.content)\n",
    " return response.choices[0].message.content\n",
    "\n",
    "chat_completion(\"what is 1+1?\")"
   ]
  }
 ],
 "metadata": {
  "kernelspec": {
   "display_name": "python12",
   "language": "python",
   "name": "python3"
  },
  "language_info": {
   "codemirror_mode": {
    "name": "ipython",
    "version": 3
   },
   "file_extension": ".py",
   "mimetype": "text/x-python",
   "name": "python",
   "nbconvert_exporter": "python",
   "pygments_lexer": "ipython3",
   "version": "3.12.0"
  }
 },
 "nbformat": 4,
 "nbformat_minor": 2
}
